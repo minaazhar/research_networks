{
 "cells": [
  {
   "cell_type": "code",
   "execution_count": 2,
   "metadata": {
    "collapsed": false
   },
   "outputs": [
    {
     "name": "stdout",
     "output_type": "stream",
     "text": [
      "[[ 23.    9.5]\n",
      " [ 23.   27.9]\n",
      " [ 27.    7.8]\n",
      " [ 27.   17.8]\n",
      " [ 39.   31.4]\n",
      " [ 41.   25.9]\n",
      " [ 45.   27.4]\n",
      " [ 49.   25.2]\n",
      " [ 50.   31.1]\n",
      " [ 53.   34.7]\n",
      " [ 53.   42. ]\n",
      " [ 54.   29.1]\n",
      " [ 56.   32.5]\n",
      " [ 57.   30.3]\n",
      " [ 58.   33. ]\n",
      " [ 58.   33.8]\n",
      " [ 60.   41.1]\n",
      " [ 61.   34.5]]\n",
      "first row\n",
      "[ 23.    9.5]\n"
     ]
    }
   ],
   "source": [
    "#libraries\n",
    "import numpy as np\n",
    "from scipy.cluster.heirarchy import dendrogram, linkage\n",
    "frfom scipy.spatial import distance\n",
    "\n",
    "#import data\n",
    "file = './HumanAgeandFatness.csv'\n",
    "target = open(file, 'r')\n",
    "datalist = np.loadtxt(file, skiprows = 1, delimiter=',')\n",
    "#print(datalist)\n",
    "#print('first row')\n",
    "#print(datalist[0,:])\n",
    "\n",
    "def average_hw(y)\n",
    "    n = len(y)  #number of observations\n",
    "    y = distance.pdist(y, metric) #returns distance matrix -- need to write it out later\n",
    "    return y #size 153\n",
    "    return _hierarchy.nn_chain(y, n, method_code)\n",
    "    return n\n",
    "    \n",
    "X = datalist\n",
    "print (X.shape)  # 150 samples with 2 dimensions\n",
    "#print(X)\n",
    "\n",
    "# generate the linkage matrix\n",
    "Z = linkage(X)\n",
    "print (Z)\n",
    "print (Z.shape)\n",
    "print (Z[0])\n",
    "#row format [idx1, idx2, dist, sample_count].\n",
    "\n",
    "'''plt.figure(figsize=(25, 10))\n",
    "plt.title('Hierarchical Clustering Dendrogram')\n",
    "plt.xlabel('sample index')\n",
    "plt.ylabel('distance')\n",
    "dendrogram(\n",
    "    Z,\n",
    "    leaf_rotation=90.,  # rotates the x axis labels\n",
    "    leaf_font_size=8.,  # font size for the x axis labels\n",
    ")\n",
    "plt.show()'''\n",
    "print(X)\n",
    "n = average_hw(X)\n",
    "print(n)"
   ]
  },
  {
   "cell_type": "code",
   "execution_count": null,
   "metadata": {
    "collapsed": true
   },
   "outputs": [],
   "source": []
  },
  {
   "cell_type": "code",
   "execution_count": null,
   "metadata": {
    "collapsed": true
   },
   "outputs": [],
   "source": []
  }
 ],
 "metadata": {
  "kernelspec": {
   "display_name": "Python 3",
   "language": "python",
   "name": "python3"
  },
  "language_info": {
   "codemirror_mode": {
    "name": "ipython",
    "version": 3
   },
   "file_extension": ".py",
   "mimetype": "text/x-python",
   "name": "python",
   "nbconvert_exporter": "python",
   "pygments_lexer": "ipython3",
   "version": "3.4.3"
  }
 },
 "nbformat": 4,
 "nbformat_minor": 0
}
